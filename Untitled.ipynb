{
 "cells": [
  {
   "cell_type": "code",
   "execution_count": 1,
   "id": "a3dab602-f007-4a16-b745-462991193b0e",
   "metadata": {
    "tags": []
   },
   "outputs": [],
   "source": [
    "import pandas as pd\n",
    "import altair as alt\n",
    "import numpy as np"
   ]
  },
  {
   "cell_type": "code",
   "execution_count": 2,
   "id": "6b868326-7ea2-4813-89f8-8e0b3a7c29bd",
   "metadata": {
    "tags": []
   },
   "outputs": [
    {
     "data": {
      "text/html": [
       "<div>\n",
       "<style scoped>\n",
       "    .dataframe tbody tr th:only-of-type {\n",
       "        vertical-align: middle;\n",
       "    }\n",
       "\n",
       "    .dataframe tbody tr th {\n",
       "        vertical-align: top;\n",
       "    }\n",
       "\n",
       "    .dataframe thead th {\n",
       "        text-align: right;\n",
       "    }\n",
       "</style>\n",
       "<table border=\"1\" class=\"dataframe\">\n",
       "  <thead>\n",
       "    <tr style=\"text-align: right;\">\n",
       "      <th></th>\n",
       "      <th>Unnamed: 0</th>\n",
       "      <th>Date</th>\n",
       "      <th>Customer_ID</th>\n",
       "      <th>Transaction_ID</th>\n",
       "      <th>SKU_Category</th>\n",
       "      <th>SKU</th>\n",
       "      <th>Quantity</th>\n",
       "      <th>Sales_Amount</th>\n",
       "      <th>Operational_Cost</th>\n",
       "      <th>Customer_Age</th>\n",
       "    </tr>\n",
       "  </thead>\n",
       "  <tbody>\n",
       "    <tr>\n",
       "      <th>0</th>\n",
       "      <td>0</td>\n",
       "      <td>02/01/2022</td>\n",
       "      <td>3686</td>\n",
       "      <td>3</td>\n",
       "      <td>Skirt</td>\n",
       "      <td>CZUZX</td>\n",
       "      <td>1.0</td>\n",
       "      <td>63.5</td>\n",
       "      <td>44.6</td>\n",
       "      <td>51</td>\n",
       "    </tr>\n",
       "    <tr>\n",
       "      <th>1</th>\n",
       "      <td>1</td>\n",
       "      <td>02/01/2022</td>\n",
       "      <td>3719</td>\n",
       "      <td>4</td>\n",
       "      <td>Skirt</td>\n",
       "      <td>549KK</td>\n",
       "      <td>1.0</td>\n",
       "      <td>55.9</td>\n",
       "      <td>41.1</td>\n",
       "      <td>27</td>\n",
       "    </tr>\n",
       "    <tr>\n",
       "      <th>2</th>\n",
       "      <td>2</td>\n",
       "      <td>02/01/2022</td>\n",
       "      <td>9200</td>\n",
       "      <td>5</td>\n",
       "      <td>Skirt</td>\n",
       "      <td>K8EHH</td>\n",
       "      <td>1.0</td>\n",
       "      <td>68.8</td>\n",
       "      <td>52.6</td>\n",
       "      <td>39</td>\n",
       "    </tr>\n",
       "    <tr>\n",
       "      <th>3</th>\n",
       "      <td>3</td>\n",
       "      <td>02/01/2022</td>\n",
       "      <td>1666</td>\n",
       "      <td>7</td>\n",
       "      <td>Shoes</td>\n",
       "      <td>AHZNS</td>\n",
       "      <td>1.0</td>\n",
       "      <td>82.1</td>\n",
       "      <td>56.7</td>\n",
       "      <td>39</td>\n",
       "    </tr>\n",
       "  </tbody>\n",
       "</table>\n",
       "</div>"
      ],
      "text/plain": [
       "   Unnamed: 0        Date  Customer_ID  Transaction_ID SKU_Category    SKU  \\\n",
       "0           0  02/01/2022         3686               3        Skirt  CZUZX   \n",
       "1           1  02/01/2022         3719               4        Skirt  549KK   \n",
       "2           2  02/01/2022         9200               5        Skirt  K8EHH   \n",
       "3           3  02/01/2022         1666               7        Shoes  AHZNS   \n",
       "\n",
       "   Quantity  Sales_Amount  Operational_Cost  Customer_Age  \n",
       "0       1.0          63.5              44.6            51  \n",
       "1       1.0          55.9              41.1            27  \n",
       "2       1.0          68.8              52.6            39  \n",
       "3       1.0          82.1              56.7            39  "
      ]
     },
     "execution_count": 2,
     "metadata": {},
     "output_type": "execute_result"
    }
   ],
   "source": [
    "df = pd.read_csv(\"dataset.csv\")\n",
    "df.head(4)"
   ]
  },
  {
   "cell_type": "code",
   "execution_count": 4,
   "id": "ee8d097b-60c9-4f24-b848-44331aeb89d5",
   "metadata": {
    "tags": []
   },
   "outputs": [
    {
     "data": {
      "image/png": "[encoded data removed]",
      "text/plain": [
       "<Figure size 640x480 with 1 Axes>"
      ]
     },
     "metadata": {},
     "output_type": "display_data"
    }
   ],
   "source": [
    "customer_age_plot = df[\"Customer_Age\"].plot.hist(x = \"Customer_Age\")"
   ]
  },
  {
   "cell_type": "code",
   "execution_count": 5,
   "id": "01a70543-aa6a-4034-aa11-ecdd236703f3",
   "metadata": {
    "tags": []
   },
   "outputs": [
    {
     "data": {
      "text/html": [
       "<div>\n",
       "<style scoped>\n",
       "    .dataframe tbody tr th:only-of-type {\n",
       "        vertical-align: middle;\n",
       "    }\n",
       "\n",
       "    .dataframe tbody tr th {\n",
       "        vertical-align: top;\n",
       "    }\n",
       "\n",
       "    .dataframe thead th {\n",
       "        text-align: right;\n",
       "    }\n",
       "</style>\n",
       "<table border=\"1\" class=\"dataframe\">\n",
       "  <thead>\n",
       "    <tr style=\"text-align: right;\">\n",
       "      <th></th>\n",
       "      <th>Customer_Age</th>\n",
       "    </tr>\n",
       "  </thead>\n",
       "  <tbody>\n",
       "    <tr>\n",
       "      <th>0</th>\n",
       "      <td>51.0</td>\n",
       "    </tr>\n",
       "    <tr>\n",
       "      <th>1</th>\n",
       "      <td>27.0</td>\n",
       "    </tr>\n",
       "    <tr>\n",
       "      <th>2</th>\n",
       "      <td>39.0</td>\n",
       "    </tr>\n",
       "    <tr>\n",
       "      <th>3</th>\n",
       "      <td>39.0</td>\n",
       "    </tr>\n",
       "    <tr>\n",
       "      <th>4</th>\n",
       "      <td>30.0</td>\n",
       "    </tr>\n",
       "    <tr>\n",
       "      <th>...</th>\n",
       "      <td>...</td>\n",
       "    </tr>\n",
       "    <tr>\n",
       "      <th>61858</th>\n",
       "      <td>24.0</td>\n",
       "    </tr>\n",
       "    <tr>\n",
       "      <th>61859</th>\n",
       "      <td>24.0</td>\n",
       "    </tr>\n",
       "    <tr>\n",
       "      <th>61860</th>\n",
       "      <td>24.0</td>\n",
       "    </tr>\n",
       "    <tr>\n",
       "      <th>61861</th>\n",
       "      <td>24.0</td>\n",
       "    </tr>\n",
       "    <tr>\n",
       "      <th>61862</th>\n",
       "      <td>24.0</td>\n",
       "    </tr>\n",
       "  </tbody>\n",
       "</table>\n",
       "<p>61863 rows × 1 columns</p>\n",
       "</div>"
      ],
      "text/plain": [
       "       Customer_Age\n",
       "0              51.0\n",
       "1              27.0\n",
       "2              39.0\n",
       "3              39.0\n",
       "4              30.0\n",
       "...             ...\n",
       "61858          24.0\n",
       "61859          24.0\n",
       "61860          24.0\n",
       "61861          24.0\n",
       "61862          24.0\n",
       "\n",
       "[61863 rows x 1 columns]"
      ]
     },
     "execution_count": 5,
     "metadata": {},
     "output_type": "execute_result"
    }
   ],
   "source": [
    "df_age = pd.DataFrame(df[\"Customer_Age\"])\n",
    "df_age = pd.DataFrame(df_age[\"Customer_Age\"].astype(\"float\"))\n",
    "df_age"
   ]
  },
  {
   "cell_type": "code",
   "execution_count": 6,
   "id": "8f49169e-89a5-4645-8180-ce8ea77ce4d7",
   "metadata": {
    "tags": []
   },
   "outputs": [],
   "source": [
    "def classify(x):\n",
    "    if x >= 16 and x <= 30:\n",
    "        return \"Young Age\"\n",
    "    elif x >= 31 and x <= 50:\n",
    "        return \"Middle Age\"\n",
    "    elif x >= 51 and x <= 70:\n",
    "        return \"Old Age\""
   ]
  },
  {
   "cell_type": "code",
   "execution_count": 8,
   "id": "d022844b-2ccf-434f-8bd8-bbce651848f7",
   "metadata": {
    "tags": []
   },
   "outputs": [
    {
     "data": {
      "text/html": [
       "<div>\n",
       "<style scoped>\n",
       "    .dataframe tbody tr th:only-of-type {\n",
       "        vertical-align: middle;\n",
       "    }\n",
       "\n",
       "    .dataframe tbody tr th {\n",
       "        vertical-align: top;\n",
       "    }\n",
       "\n",
       "    .dataframe thead th {\n",
       "        text-align: right;\n",
       "    }\n",
       "</style>\n",
       "<table border=\"1\" class=\"dataframe\">\n",
       "  <thead>\n",
       "    <tr style=\"text-align: right;\">\n",
       "      <th></th>\n",
       "      <th>Customer_Age</th>\n",
       "      <th>Group</th>\n",
       "    </tr>\n",
       "  </thead>\n",
       "  <tbody>\n",
       "    <tr>\n",
       "      <th>0</th>\n",
       "      <td>51.0</td>\n",
       "      <td>Old Age</td>\n",
       "    </tr>\n",
       "    <tr>\n",
       "      <th>1</th>\n",
       "      <td>27.0</td>\n",
       "      <td>Young Age</td>\n",
       "    </tr>\n",
       "    <tr>\n",
       "      <th>2</th>\n",
       "      <td>39.0</td>\n",
       "      <td>Middle Age</td>\n",
       "    </tr>\n",
       "    <tr>\n",
       "      <th>3</th>\n",
       "      <td>39.0</td>\n",
       "      <td>Middle Age</td>\n",
       "    </tr>\n",
       "    <tr>\n",
       "      <th>4</th>\n",
       "      <td>30.0</td>\n",
       "      <td>Young Age</td>\n",
       "    </tr>\n",
       "    <tr>\n",
       "      <th>...</th>\n",
       "      <td>...</td>\n",
       "      <td>...</td>\n",
       "    </tr>\n",
       "    <tr>\n",
       "      <th>61858</th>\n",
       "      <td>24.0</td>\n",
       "      <td>Young Age</td>\n",
       "    </tr>\n",
       "    <tr>\n",
       "      <th>61859</th>\n",
       "      <td>24.0</td>\n",
       "      <td>Young Age</td>\n",
       "    </tr>\n",
       "    <tr>\n",
       "      <th>61860</th>\n",
       "      <td>24.0</td>\n",
       "      <td>Young Age</td>\n",
       "    </tr>\n",
       "    <tr>\n",
       "      <th>61861</th>\n",
       "      <td>24.0</td>\n",
       "      <td>Young Age</td>\n",
       "    </tr>\n",
       "    <tr>\n",
       "      <th>61862</th>\n",
       "      <td>24.0</td>\n",
       "      <td>Young Age</td>\n",
       "    </tr>\n",
       "  </tbody>\n",
       "</table>\n",
       "<p>61863 rows × 2 columns</p>\n",
       "</div>"
      ],
      "text/plain": [
       "       Customer_Age       Group\n",
       "0              51.0     Old Age\n",
       "1              27.0   Young Age\n",
       "2              39.0  Middle Age\n",
       "3              39.0  Middle Age\n",
       "4              30.0   Young Age\n",
       "...             ...         ...\n",
       "61858          24.0   Young Age\n",
       "61859          24.0   Young Age\n",
       "61860          24.0   Young Age\n",
       "61861          24.0   Young Age\n",
       "61862          24.0   Young Age\n",
       "\n",
       "[61863 rows x 2 columns]"
      ]
     },
     "execution_count": 8,
     "metadata": {},
     "output_type": "execute_result"
    }
   ],
   "source": [
    "df_age[\"Group\"] = df_age[\"Customer_Age\"].apply(classify)\n",
    "df_age"
   ]
  },
  {
   "cell_type": "code",
   "execution_count": null,
   "id": "58ccc7ee-005b-479f-886a-52788a14e994",
   "metadata": {},
   "outputs": [],
   "source": []
  }
 ],
 "metadata": {
  "kernelspec": {
   "display_name": "Python 3 (ipykernel)",
   "language": "python",
   "name": "python3"
  },
  "language_info": {
   "codemirror_mode": {
    "name": "ipython",
    "version": 3
   },
   "file_extension": ".py",
   "mimetype": "text/x-python",
   "name": "python",
   "nbconvert_exporter": "python",
   "pygments_lexer": "ipython3",
   "version": "3.11.4"
  }
 },
 "nbformat": 4,
 "nbformat_minor": 5
}
